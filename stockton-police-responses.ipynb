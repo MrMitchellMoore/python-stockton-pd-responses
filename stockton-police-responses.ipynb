{
 "cells": [
  {
   "cell_type": "markdown",
   "metadata": {},
   "source": [
    "## Table of Contents<a class=\"anchor\" id=\"top\"></a>\n",
    "0. [Import Libraries](#import-libraries)\n",
    "1. [Import Data](#import-data)\n",
    "2. [Data Exploration](#data-exploration)\n",
    "3. [Data Cleaning](#data-cleaning)\n",
    "4. [Data Preparation](#data-preparation)"
   ]
  },
  {
   "cell_type": "markdown",
   "metadata": {},
   "source": [
    "### Data Dictionary\n",
    "<style>\n",
    "    /* Optional: CSS for styling */\n",
    "    .image-container {\n",
    "      max-width: 100%; /* Ensure the image container respects the screen width */\n",
    "    }\n",
    "</style>\n",
    "<div class=\"image-container\">\n",
    "    <picture>  \n",
    "      <source media=\"(min-width: 769px)\" srcset=\"./data-dictionary.png\">\n",
    "      <source media=\"(min-width: 481px) and (max-width: 768px)\" srcset=\"./data-dictionary.png\">\n",
    "      <img src=\"./data-dictionary.png\" alt=\"Stockton Police Responses\">\n",
    "    </picture>\n",
    "</div>"
   ]
  },
  {
   "cell_type": "markdown",
   "metadata": {},
   "source": [
    "### <a class=\"anchor\" id=\"import-libraries\">0. Import Libraries</a>\n",
    "###### [Back to top](#top)"
   ]
  },
  {
   "cell_type": "code",
   "execution_count": 1,
   "metadata": {},
   "outputs": [],
   "source": [
    "import pandas as pd\n",
    "import numpy as np\n",
    "import matplotlib.pyplot as plt\n",
    "import seaborn as sns\n",
    "import re\n",
    "import os"
   ]
  },
  {
   "cell_type": "markdown",
   "metadata": {},
   "source": [
    "### <a class=\"anchor\" id=\"import-data\">1. Import Data</a>\n",
    "###### [Back to top](#top)"
   ]
  },
  {
   "cell_type": "code",
   "execution_count": 2,
   "metadata": {},
   "outputs": [
    {
     "data": {
      "text/html": [
       "<div>\n",
       "<style scoped>\n",
       "    .dataframe tbody tr th:only-of-type {\n",
       "        vertical-align: middle;\n",
       "    }\n",
       "\n",
       "    .dataframe tbody tr th {\n",
       "        vertical-align: top;\n",
       "    }\n",
       "\n",
       "    .dataframe thead th {\n",
       "        text-align: right;\n",
       "    }\n",
       "</style>\n",
       "<table border=\"1\" class=\"dataframe\">\n",
       "  <thead>\n",
       "    <tr style=\"text-align: right;\">\n",
       "      <th></th>\n",
       "      <th>CALL_NO</th>\n",
       "      <th>REPORT_NO</th>\n",
       "      <th>CALL_TYPE_ORIG</th>\n",
       "      <th>CALL_TYPE_FINAL</th>\n",
       "      <th>CALL_TYPE_FINAL_D</th>\n",
       "      <th>PRIORITY</th>\n",
       "      <th>BEAT</th>\n",
       "      <th>CURR_DGROUP</th>\n",
       "      <th>REP_DIST</th>\n",
       "      <th>CALL_ENTRY_DATE</th>\n",
       "      <th>FIRST_Cross_Street</th>\n",
       "      <th>X</th>\n",
       "      <th>Y</th>\n",
       "      <th>CALL_ENTRY_TIME_FORMATTED</th>\n",
       "      <th>DISTRICTNAME</th>\n",
       "    </tr>\n",
       "  </thead>\n",
       "  <tbody>\n",
       "    <tr>\n",
       "      <th>0</th>\n",
       "      <td>P190430698</td>\n",
       "      <td>NaN</td>\n",
       "      <td>945</td>\n",
       "      <td>945</td>\n",
       "      <td>AMBULANCE REQ</td>\n",
       "      <td>1.0</td>\n",
       "      <td>VN</td>\n",
       "      <td>VAL</td>\n",
       "      <td>346</td>\n",
       "      <td>2019-02-12 00:00:00.0000000</td>\n",
       "      <td>HAMMER &amp; KATHLEEN</td>\n",
       "      <td>-121.296873</td>\n",
       "      <td>38.020917</td>\n",
       "      <td>14:48:36</td>\n",
       "      <td>Valley Oak</td>\n",
       "    </tr>\n",
       "    <tr>\n",
       "      <th>1</th>\n",
       "      <td>P190430699</td>\n",
       "      <td>PD190005995</td>\n",
       "      <td>962</td>\n",
       "      <td>950</td>\n",
       "      <td>OBTAIN REPORT</td>\n",
       "      <td>3.0</td>\n",
       "      <td>CS</td>\n",
       "      <td>CIV</td>\n",
       "      <td>109</td>\n",
       "      <td>2019-02-12 00:00:00.0000000</td>\n",
       "      <td>EL DORADO &amp; MARKET</td>\n",
       "      <td>-121.289518</td>\n",
       "      <td>37.951718</td>\n",
       "      <td>14:50:06</td>\n",
       "      <td>Civic</td>\n",
       "    </tr>\n",
       "    <tr>\n",
       "      <th>2</th>\n",
       "      <td>P190430699</td>\n",
       "      <td>PD190005995</td>\n",
       "      <td>962</td>\n",
       "      <td>950</td>\n",
       "      <td>OBTAIN REPORT</td>\n",
       "      <td>3.0</td>\n",
       "      <td>CS</td>\n",
       "      <td>CIV</td>\n",
       "      <td>109</td>\n",
       "      <td>2019-02-12 00:00:00.0000000</td>\n",
       "      <td>EL DORADO &amp; MARKET</td>\n",
       "      <td>-121.289518</td>\n",
       "      <td>37.951718</td>\n",
       "      <td>14:50:06</td>\n",
       "      <td>Civic</td>\n",
       "    </tr>\n",
       "    <tr>\n",
       "      <th>3</th>\n",
       "      <td>P190430701</td>\n",
       "      <td>NaN</td>\n",
       "      <td>925R</td>\n",
       "      <td>925R</td>\n",
       "      <td>REPORTS</td>\n",
       "      <td>2.0</td>\n",
       "      <td>CS</td>\n",
       "      <td>CIV</td>\n",
       "      <td>109</td>\n",
       "      <td>2019-02-12 00:00:00.0000000</td>\n",
       "      <td>EL DORADO &amp; MARKET</td>\n",
       "      <td>-121.289518</td>\n",
       "      <td>37.951718</td>\n",
       "      <td>14:50:45</td>\n",
       "      <td>Civic</td>\n",
       "    </tr>\n",
       "    <tr>\n",
       "      <th>4</th>\n",
       "      <td>P190430704</td>\n",
       "      <td>NaN</td>\n",
       "      <td>WELCK</td>\n",
       "      <td>WELCK</td>\n",
       "      <td>WELFARE CHECK</td>\n",
       "      <td>2.0</td>\n",
       "      <td>SE</td>\n",
       "      <td>SEA</td>\n",
       "      <td>106</td>\n",
       "      <td>2019-02-12 00:00:00.0000000</td>\n",
       "      <td>LAFAYETTE &amp; SAN JOAQUIN</td>\n",
       "      <td>-121.286390</td>\n",
       "      <td>37.950209</td>\n",
       "      <td>14:52:25</td>\n",
       "      <td>Seaport</td>\n",
       "    </tr>\n",
       "  </tbody>\n",
       "</table>\n",
       "</div>"
      ],
      "text/plain": [
       "      CALL_NO    REPORT_NO CALL_TYPE_ORIG CALL_TYPE_FINAL CALL_TYPE_FINAL_D  \\\n",
       "0  P190430698          NaN            945             945     AMBULANCE REQ   \n",
       "1  P190430699  PD190005995            962             950     OBTAIN REPORT   \n",
       "2  P190430699  PD190005995            962             950     OBTAIN REPORT   \n",
       "3  P190430701          NaN           925R            925R           REPORTS   \n",
       "4  P190430704          NaN          WELCK           WELCK     WELFARE CHECK   \n",
       "\n",
       "   PRIORITY BEAT CURR_DGROUP  REP_DIST              CALL_ENTRY_DATE  \\\n",
       "0       1.0   VN         VAL       346  2019-02-12 00:00:00.0000000   \n",
       "1       3.0   CS         CIV       109  2019-02-12 00:00:00.0000000   \n",
       "2       3.0   CS         CIV       109  2019-02-12 00:00:00.0000000   \n",
       "3       2.0   CS         CIV       109  2019-02-12 00:00:00.0000000   \n",
       "4       2.0   SE         SEA       106  2019-02-12 00:00:00.0000000   \n",
       "\n",
       "        FIRST_Cross_Street           X          Y CALL_ENTRY_TIME_FORMATTED  \\\n",
       "0        HAMMER & KATHLEEN -121.296873  38.020917                  14:48:36   \n",
       "1       EL DORADO & MARKET -121.289518  37.951718                  14:50:06   \n",
       "2       EL DORADO & MARKET -121.289518  37.951718                  14:50:06   \n",
       "3       EL DORADO & MARKET -121.289518  37.951718                  14:50:45   \n",
       "4  LAFAYETTE & SAN JOAQUIN -121.286390  37.950209                  14:52:25   \n",
       "\n",
       "  DISTRICTNAME  \n",
       "0   Valley Oak  \n",
       "1        Civic  \n",
       "2        Civic  \n",
       "3        Civic  \n",
       "4      Seaport  "
      ]
     },
     "execution_count": 2,
     "metadata": {},
     "output_type": "execute_result"
    }
   ],
   "source": [
    "data_dir = './'\n",
    "csv_file = os.path.join(data_dir, 'SPDService_Calls.csv')\n",
    "\n",
    "df = pd.read_csv(csv_file)\n",
    "df.head(5)"
   ]
  },
  {
   "cell_type": "markdown",
   "metadata": {},
   "source": [
    "### <a class=\"anchor\" id=\"data-exploration\">2. Data Exploration</a>\n",
    "###### [Back to top](#top)"
   ]
  },
  {
   "cell_type": "code",
   "execution_count": 3,
   "metadata": {},
   "outputs": [
    {
     "data": {
      "text/plain": [
       "Index(['CALL_NO', 'REPORT_NO', 'CALL_TYPE_ORIG', 'CALL_TYPE_FINAL',\n",
       "       'CALL_TYPE_FINAL_D', 'PRIORITY', 'BEAT', 'CURR_DGROUP', 'REP_DIST',\n",
       "       'CALL_ENTRY_DATE', 'FIRST_Cross_Street', 'X', 'Y',\n",
       "       'CALL_ENTRY_TIME_FORMATTED', 'DISTRICTNAME'],\n",
       "      dtype='object')"
      ]
     },
     "execution_count": 3,
     "metadata": {},
     "output_type": "execute_result"
    }
   ],
   "source": [
    "df.columns"
   ]
  },
  {
   "cell_type": "code",
   "execution_count": 4,
   "metadata": {},
   "outputs": [
    {
     "data": {
      "text/html": [
       "<div>\n",
       "<style scoped>\n",
       "    .dataframe tbody tr th:only-of-type {\n",
       "        vertical-align: middle;\n",
       "    }\n",
       "\n",
       "    .dataframe tbody tr th {\n",
       "        vertical-align: top;\n",
       "    }\n",
       "\n",
       "    .dataframe thead th {\n",
       "        text-align: right;\n",
       "    }\n",
       "</style>\n",
       "<table border=\"1\" class=\"dataframe\">\n",
       "  <thead>\n",
       "    <tr style=\"text-align: right;\">\n",
       "      <th></th>\n",
       "      <th>DISTRICTNAME</th>\n",
       "      <th>REP_DIST</th>\n",
       "      <th>CALL_TYPE_FINAL</th>\n",
       "      <th>CALL_TYPE_FINAL_D</th>\n",
       "      <th>PRIORITY</th>\n",
       "      <th>FIRST_Cross_Street</th>\n",
       "      <th>CALL_ENTRY_DATE</th>\n",
       "      <th>CALL_ENTRY_TIME_FORMATTED</th>\n",
       "    </tr>\n",
       "  </thead>\n",
       "  <tbody>\n",
       "    <tr>\n",
       "      <th>0</th>\n",
       "      <td>Valley Oak</td>\n",
       "      <td>346</td>\n",
       "      <td>945</td>\n",
       "      <td>AMBULANCE REQ</td>\n",
       "      <td>1.0</td>\n",
       "      <td>HAMMER &amp; KATHLEEN</td>\n",
       "      <td>2019-02-12 00:00:00.0000000</td>\n",
       "      <td>14:48:36</td>\n",
       "    </tr>\n",
       "    <tr>\n",
       "      <th>1</th>\n",
       "      <td>Civic</td>\n",
       "      <td>109</td>\n",
       "      <td>950</td>\n",
       "      <td>OBTAIN REPORT</td>\n",
       "      <td>3.0</td>\n",
       "      <td>EL DORADO &amp; MARKET</td>\n",
       "      <td>2019-02-12 00:00:00.0000000</td>\n",
       "      <td>14:50:06</td>\n",
       "    </tr>\n",
       "    <tr>\n",
       "      <th>2</th>\n",
       "      <td>Civic</td>\n",
       "      <td>109</td>\n",
       "      <td>950</td>\n",
       "      <td>OBTAIN REPORT</td>\n",
       "      <td>3.0</td>\n",
       "      <td>EL DORADO &amp; MARKET</td>\n",
       "      <td>2019-02-12 00:00:00.0000000</td>\n",
       "      <td>14:50:06</td>\n",
       "    </tr>\n",
       "    <tr>\n",
       "      <th>3</th>\n",
       "      <td>Civic</td>\n",
       "      <td>109</td>\n",
       "      <td>925R</td>\n",
       "      <td>REPORTS</td>\n",
       "      <td>2.0</td>\n",
       "      <td>EL DORADO &amp; MARKET</td>\n",
       "      <td>2019-02-12 00:00:00.0000000</td>\n",
       "      <td>14:50:45</td>\n",
       "    </tr>\n",
       "    <tr>\n",
       "      <th>4</th>\n",
       "      <td>Seaport</td>\n",
       "      <td>106</td>\n",
       "      <td>WELCK</td>\n",
       "      <td>WELFARE CHECK</td>\n",
       "      <td>2.0</td>\n",
       "      <td>LAFAYETTE &amp; SAN JOAQUIN</td>\n",
       "      <td>2019-02-12 00:00:00.0000000</td>\n",
       "      <td>14:52:25</td>\n",
       "    </tr>\n",
       "    <tr>\n",
       "      <th>5</th>\n",
       "      <td>Seaport</td>\n",
       "      <td>106</td>\n",
       "      <td>WELCK</td>\n",
       "      <td>WELFARE CHECK</td>\n",
       "      <td>2.0</td>\n",
       "      <td>LAFAYETTE &amp; SAN JOAQUIN</td>\n",
       "      <td>2019-02-12 00:00:00.0000000</td>\n",
       "      <td>14:52:25</td>\n",
       "    </tr>\n",
       "    <tr>\n",
       "      <th>6</th>\n",
       "      <td>Seaport</td>\n",
       "      <td>230</td>\n",
       "      <td>481</td>\n",
       "      <td>HIT RUN NO INJUR</td>\n",
       "      <td>2.0</td>\n",
       "      <td>IRENE &amp; STOCKTON</td>\n",
       "      <td>2019-02-12 00:00:00.0000000</td>\n",
       "      <td>14:55:18</td>\n",
       "    </tr>\n",
       "    <tr>\n",
       "      <th>7</th>\n",
       "      <td>Valley Oak</td>\n",
       "      <td>367</td>\n",
       "      <td>415HW</td>\n",
       "      <td>CELL 911 HANG UP</td>\n",
       "      <td>1.0</td>\n",
       "      <td>FRED RUSSO &amp; JAYDEN</td>\n",
       "      <td>2019-02-12 00:00:00.0000000</td>\n",
       "      <td>15:06:55</td>\n",
       "    </tr>\n",
       "    <tr>\n",
       "      <th>8</th>\n",
       "      <td>Valley Oak</td>\n",
       "      <td>346</td>\n",
       "      <td>415L</td>\n",
       "      <td>CLEAR THE LOT</td>\n",
       "      <td>4.0</td>\n",
       "      <td>KNICKERBOCKER &amp; NEW YORK</td>\n",
       "      <td>2019-02-12 00:00:00.0000000</td>\n",
       "      <td>15:06:53</td>\n",
       "    </tr>\n",
       "    <tr>\n",
       "      <th>9</th>\n",
       "      <td>Valley Oak</td>\n",
       "      <td>367</td>\n",
       "      <td>415HW</td>\n",
       "      <td>CELL 911 HANG UP</td>\n",
       "      <td>1.0</td>\n",
       "      <td>FRED RUSSO &amp; JAYDEN</td>\n",
       "      <td>2019-02-12 00:00:00.0000000</td>\n",
       "      <td>15:07:10</td>\n",
       "    </tr>\n",
       "  </tbody>\n",
       "</table>\n",
       "</div>"
      ],
      "text/plain": [
       "  DISTRICTNAME  REP_DIST CALL_TYPE_FINAL CALL_TYPE_FINAL_D  PRIORITY  \\\n",
       "0   Valley Oak       346             945     AMBULANCE REQ       1.0   \n",
       "1        Civic       109             950     OBTAIN REPORT       3.0   \n",
       "2        Civic       109             950     OBTAIN REPORT       3.0   \n",
       "3        Civic       109            925R           REPORTS       2.0   \n",
       "4      Seaport       106           WELCK     WELFARE CHECK       2.0   \n",
       "5      Seaport       106           WELCK     WELFARE CHECK       2.0   \n",
       "6      Seaport       230             481  HIT RUN NO INJUR       2.0   \n",
       "7   Valley Oak       367           415HW  CELL 911 HANG UP       1.0   \n",
       "8   Valley Oak       346            415L     CLEAR THE LOT       4.0   \n",
       "9   Valley Oak       367           415HW  CELL 911 HANG UP       1.0   \n",
       "\n",
       "         FIRST_Cross_Street              CALL_ENTRY_DATE  \\\n",
       "0         HAMMER & KATHLEEN  2019-02-12 00:00:00.0000000   \n",
       "1        EL DORADO & MARKET  2019-02-12 00:00:00.0000000   \n",
       "2        EL DORADO & MARKET  2019-02-12 00:00:00.0000000   \n",
       "3        EL DORADO & MARKET  2019-02-12 00:00:00.0000000   \n",
       "4   LAFAYETTE & SAN JOAQUIN  2019-02-12 00:00:00.0000000   \n",
       "5   LAFAYETTE & SAN JOAQUIN  2019-02-12 00:00:00.0000000   \n",
       "6          IRENE & STOCKTON  2019-02-12 00:00:00.0000000   \n",
       "7       FRED RUSSO & JAYDEN  2019-02-12 00:00:00.0000000   \n",
       "8  KNICKERBOCKER & NEW YORK  2019-02-12 00:00:00.0000000   \n",
       "9       FRED RUSSO & JAYDEN  2019-02-12 00:00:00.0000000   \n",
       "\n",
       "  CALL_ENTRY_TIME_FORMATTED  \n",
       "0                  14:48:36  \n",
       "1                  14:50:06  \n",
       "2                  14:50:06  \n",
       "3                  14:50:45  \n",
       "4                  14:52:25  \n",
       "5                  14:52:25  \n",
       "6                  14:55:18  \n",
       "7                  15:06:55  \n",
       "8                  15:06:53  \n",
       "9                  15:07:10  "
      ]
     },
     "execution_count": 4,
     "metadata": {},
     "output_type": "execute_result"
    }
   ],
   "source": [
    "df = df[['DISTRICTNAME','REP_DIST','CALL_TYPE_FINAL','CALL_TYPE_FINAL_D','PRIORITY','FIRST_Cross_Street','CALL_ENTRY_DATE', 'CALL_ENTRY_TIME_FORMATTED']]\n",
    "df.head(10)"
   ]
  },
  {
   "cell_type": "code",
   "execution_count": 5,
   "metadata": {},
   "outputs": [
    {
     "data": {
      "text/html": [
       "<div>\n",
       "<style scoped>\n",
       "    .dataframe tbody tr th:only-of-type {\n",
       "        vertical-align: middle;\n",
       "    }\n",
       "\n",
       "    .dataframe tbody tr th {\n",
       "        vertical-align: top;\n",
       "    }\n",
       "\n",
       "    .dataframe thead th {\n",
       "        text-align: right;\n",
       "    }\n",
       "</style>\n",
       "<table border=\"1\" class=\"dataframe\">\n",
       "  <thead>\n",
       "    <tr style=\"text-align: right;\">\n",
       "      <th></th>\n",
       "      <th>DISTRICTNAME</th>\n",
       "      <th>REP_DIST</th>\n",
       "      <th>CALL_TYPE_FINAL</th>\n",
       "      <th>CALL_TYPE_FINAL_D</th>\n",
       "      <th>PRIORITY</th>\n",
       "      <th>FIRST_Cross_Street</th>\n",
       "      <th>CALL_ENTRY_DATE</th>\n",
       "      <th>CALL_ENTRY_TIME_FORMATTED</th>\n",
       "    </tr>\n",
       "  </thead>\n",
       "  <tbody>\n",
       "    <tr>\n",
       "      <th>0</th>\n",
       "      <td>Valley Oak</td>\n",
       "      <td>346</td>\n",
       "      <td>945</td>\n",
       "      <td>AMBULANCE REQ</td>\n",
       "      <td>1.0</td>\n",
       "      <td>HAMMER &amp; KATHLEEN</td>\n",
       "      <td>2019-02-12</td>\n",
       "      <td>14:48:36</td>\n",
       "    </tr>\n",
       "    <tr>\n",
       "      <th>1</th>\n",
       "      <td>Civic</td>\n",
       "      <td>109</td>\n",
       "      <td>950</td>\n",
       "      <td>OBTAIN REPORT</td>\n",
       "      <td>3.0</td>\n",
       "      <td>EL DORADO &amp; MARKET</td>\n",
       "      <td>2019-02-12</td>\n",
       "      <td>14:50:06</td>\n",
       "    </tr>\n",
       "  </tbody>\n",
       "</table>\n",
       "</div>"
      ],
      "text/plain": [
       "  DISTRICTNAME  REP_DIST CALL_TYPE_FINAL CALL_TYPE_FINAL_D  PRIORITY  \\\n",
       "0   Valley Oak       346             945     AMBULANCE REQ       1.0   \n",
       "1        Civic       109             950     OBTAIN REPORT       3.0   \n",
       "\n",
       "   FIRST_Cross_Street CALL_ENTRY_DATE CALL_ENTRY_TIME_FORMATTED  \n",
       "0   HAMMER & KATHLEEN      2019-02-12                  14:48:36  \n",
       "1  EL DORADO & MARKET      2019-02-12                  14:50:06  "
      ]
     },
     "execution_count": 5,
     "metadata": {},
     "output_type": "execute_result"
    }
   ],
   "source": [
    "# change data type for Call Entry Date to datetime\n",
    "df['CALL_ENTRY_DATE'] = pd.to_datetime(df['CALL_ENTRY_DATE'])\n",
    "\n",
    "df.head(2)"
   ]
  },
  {
   "cell_type": "code",
   "execution_count": 6,
   "metadata": {},
   "outputs": [
    {
     "data": {
      "text/plain": [
       "PRIORITY\n",
       "1.0    1103356\n",
       "2.0     735322\n",
       "3.0     404969\n",
       "4.0     256362\n",
       "9.0     131233\n",
       "5.0      80970\n",
       "Name: count, dtype: int64"
      ]
     },
     "execution_count": 6,
     "metadata": {},
     "output_type": "execute_result"
    }
   ],
   "source": [
    "df['PRIORITY'].value_counts()"
   ]
  },
  {
   "cell_type": "code",
   "execution_count": 7,
   "metadata": {},
   "outputs": [
    {
     "data": {
      "text/plain": [
       "REP_DIST\n",
       "109     174315\n",
       "346      45597\n",
       "105      42846\n",
       "326      35516\n",
       "102      35393\n",
       "         ...  \n",
       "7394         3\n",
       "268          3\n",
       "3372         3\n",
       "7640         1\n",
       "7632         1\n",
       "Name: count, Length: 460, dtype: int64"
      ]
     },
     "execution_count": 7,
     "metadata": {},
     "output_type": "execute_result"
    }
   ],
   "source": [
    "df['REP_DIST'].value_counts()"
   ]
  },
  {
   "cell_type": "code",
   "execution_count": 8,
   "metadata": {},
   "outputs": [
    {
     "data": {
      "text/plain": [
       "<Axes: xlabel='REP_DIST'>"
      ]
     },
     "execution_count": 8,
     "metadata": {},
     "output_type": "execute_result"
    },
    {
     "data": {
      "image/png": "[encoded data removed]",
      "text/plain": [
       "<Figure size 640x480 with 1 Axes>"
      ]
     },
     "metadata": {},
     "output_type": "display_data"
    }
   ],
   "source": [
    "df['REP_DIST'].value_counts().head(5).plot(kind='bar')"
   ]
  },
  {
   "cell_type": "code",
   "execution_count": 9,
   "metadata": {},
   "outputs": [
    {
     "data": {
      "text/plain": [
       "CALL_TYPE_FINAL_D\n",
       "CELL 911 HANG UP    263784\n",
       "AMBULANCE REQ       199427\n",
       "CHECK ON            108730\n",
       "DISTURBANCE         104234\n",
       "FIRE                 91107\n",
       "                     ...  \n",
       "POSS 957 ??              1\n",
       "*TRU                     1\n",
       "NEIGHGBOR                1\n",
       "HANGUN                   1\n",
       "215 ATTEMPT              1\n",
       "Name: count, Length: 12846, dtype: int64"
      ]
     },
     "execution_count": 9,
     "metadata": {},
     "output_type": "execute_result"
    }
   ],
   "source": [
    "df['CALL_TYPE_FINAL_D'].value_counts()"
   ]
  },
  {
   "cell_type": "code",
   "execution_count": 10,
   "metadata": {},
   "outputs": [
    {
     "data": {
      "text/plain": [
       "CALL_TYPE_FINAL_D\n",
       "CELL 911 HANG UP    263784\n",
       "AMBULANCE REQ       199427\n",
       "CHECK ON            108730\n",
       "DISTURBANCE         104234\n",
       "FIRE                 91107\n",
       "Name: count, dtype: int64"
      ]
     },
     "execution_count": 10,
     "metadata": {},
     "output_type": "execute_result"
    }
   ],
   "source": [
    "# value count of call type final d column with top 5 values\n",
    "\n",
    "df['CALL_TYPE_FINAL_D'].value_counts().head(5)"
   ]
  },
  {
   "cell_type": "code",
   "execution_count": 11,
   "metadata": {},
   "outputs": [
    {
     "data": {
      "image/png": "[encoded data removed]",
      "text/plain": [
       "<Figure size 640x480 with 1 Axes>"
      ]
     },
     "metadata": {},
     "output_type": "display_data"
    }
   ],
   "source": [
    "# value count of call type final d column with top 5 values in a plot\n",
    "\n",
    "df['CALL_TYPE_FINAL_D'].value_counts().head(5).plot(kind='bar')\n",
    "plt.show()"
   ]
  },
  {
   "cell_type": "code",
   "execution_count": 12,
   "metadata": {},
   "outputs": [
    {
     "data": {
      "text/plain": [
       "DISTRICTNAME                     0\n",
       "REP_DIST                         0\n",
       "CALL_TYPE_FINAL                  0\n",
       "CALL_TYPE_FINAL_D                0\n",
       "PRIORITY                     50619\n",
       "FIRST_Cross_Street            1473\n",
       "CALL_ENTRY_DATE                  0\n",
       "CALL_ENTRY_TIME_FORMATTED        0\n",
       "dtype: int64"
      ]
     },
     "execution_count": 12,
     "metadata": {},
     "output_type": "execute_result"
    }
   ],
   "source": [
    "# search dataframe for null values\n",
    "\n",
    "df.isnull().sum()"
   ]
  },
  {
   "cell_type": "code",
   "execution_count": 13,
   "metadata": {},
   "outputs": [
    {
     "data": {
      "text/plain": [
       "DISTRICTNAME                         object\n",
       "REP_DIST                              int64\n",
       "CALL_TYPE_FINAL                      object\n",
       "CALL_TYPE_FINAL_D                    object\n",
       "PRIORITY                            float64\n",
       "FIRST_Cross_Street                   object\n",
       "CALL_ENTRY_DATE              datetime64[ns]\n",
       "CALL_ENTRY_TIME_FORMATTED            object\n",
       "dtype: object"
      ]
     },
     "execution_count": 13,
     "metadata": {},
     "output_type": "execute_result"
    }
   ],
   "source": [
    "df.dtypes"
   ]
  },
  {
   "cell_type": "markdown",
   "metadata": {},
   "source": [
    "### <a class=\"anchor\" id=\"data-cleaning\">3. Data Cleaning</a>\n",
    "###### [Back to top](#top)"
   ]
  },
  {
   "cell_type": "markdown",
   "metadata": {},
   "source": [
    "#### Rename Columns"
   ]
  },
  {
   "cell_type": "code",
   "execution_count": 14,
   "metadata": {},
   "outputs": [
    {
     "data": {
      "text/html": [
       "<div>\n",
       "<style scoped>\n",
       "    .dataframe tbody tr th:only-of-type {\n",
       "        vertical-align: middle;\n",
       "    }\n",
       "\n",
       "    .dataframe tbody tr th {\n",
       "        vertical-align: top;\n",
       "    }\n",
       "\n",
       "    .dataframe thead th {\n",
       "        text-align: right;\n",
       "    }\n",
       "</style>\n",
       "<table border=\"1\" class=\"dataframe\">\n",
       "  <thead>\n",
       "    <tr style=\"text-align: right;\">\n",
       "      <th></th>\n",
       "      <th>DISTRICT_NAME</th>\n",
       "      <th>REP_DIST</th>\n",
       "      <th>CALL_TYPE</th>\n",
       "      <th>CALL_TYPE_DESCRIPTION</th>\n",
       "      <th>PRIORITY</th>\n",
       "      <th>CROSS_STREET</th>\n",
       "      <th>CALL_ENTRY_DATE</th>\n",
       "      <th>CALL_ENTRY_TIME</th>\n",
       "    </tr>\n",
       "  </thead>\n",
       "  <tbody>\n",
       "    <tr>\n",
       "      <th>0</th>\n",
       "      <td>Valley Oak</td>\n",
       "      <td>346</td>\n",
       "      <td>945</td>\n",
       "      <td>AMBULANCE REQ</td>\n",
       "      <td>1.0</td>\n",
       "      <td>HAMMER &amp; KATHLEEN</td>\n",
       "      <td>2019-02-12</td>\n",
       "      <td>14:48:36</td>\n",
       "    </tr>\n",
       "    <tr>\n",
       "      <th>1</th>\n",
       "      <td>Civic</td>\n",
       "      <td>109</td>\n",
       "      <td>950</td>\n",
       "      <td>OBTAIN REPORT</td>\n",
       "      <td>3.0</td>\n",
       "      <td>EL DORADO &amp; MARKET</td>\n",
       "      <td>2019-02-12</td>\n",
       "      <td>14:50:06</td>\n",
       "    </tr>\n",
       "  </tbody>\n",
       "</table>\n",
       "</div>"
      ],
      "text/plain": [
       "  DISTRICT_NAME  REP_DIST CALL_TYPE CALL_TYPE_DESCRIPTION  PRIORITY  \\\n",
       "0    Valley Oak       346       945         AMBULANCE REQ       1.0   \n",
       "1         Civic       109       950         OBTAIN REPORT       3.0   \n",
       "\n",
       "         CROSS_STREET CALL_ENTRY_DATE CALL_ENTRY_TIME  \n",
       "0   HAMMER & KATHLEEN      2019-02-12        14:48:36  \n",
       "1  EL DORADO & MARKET      2019-02-12        14:50:06  "
      ]
     },
     "execution_count": 14,
     "metadata": {},
     "output_type": "execute_result"
    }
   ],
   "source": [
    "df = df.rename(columns={'DISTRICTNAME':'DISTRICT_NAME', 'REP_DIST':'REP_DIST', 'CALL_TYPE_FINAL': 'CALL_TYPE','CALL_TYPE_FINAL_D': 'CALL_TYPE_DESCRIPTION','PRIORITY': 'PRIORITY','FIRST_Cross_Street':'CROSS_STREET', 'CALL_ENTRY_DATE':'CALL_ENTRY_DATE', 'CALL_ENTRY_TIME_FORMATTED':'CALL_ENTRY_TIME'})\n",
    "\n",
    "df.head(2)"
   ]
  },
  {
   "cell_type": "markdown",
   "metadata": {},
   "source": [
    "#### Check for null values and drop null values if it makes sense"
   ]
  },
  {
   "cell_type": "code",
   "execution_count": 15,
   "metadata": {},
   "outputs": [],
   "source": [
    "# assign default value of 1 to null values in PRIORITY column\n",
    "\n",
    "df['PRIORITY'] = df['PRIORITY'].fillna(1)"
   ]
  },
  {
   "cell_type": "code",
   "execution_count": 19,
   "metadata": {},
   "outputs": [],
   "source": [
    "# drop null values based on CROSS_STREET\n",
    "\n",
    "df = df.dropna(subset=['CROSS_STREET'])"
   ]
  },
  {
   "cell_type": "code",
   "execution_count": 21,
   "metadata": {},
   "outputs": [
    {
     "data": {
      "text/plain": [
       "DISTRICT_NAME            0\n",
       "REP_DIST                 0\n",
       "CALL_TYPE                0\n",
       "CALL_TYPE_DESCRIPTION    0\n",
       "PRIORITY                 0\n",
       "CROSS_STREET             0\n",
       "CALL_ENTRY_DATE          0\n",
       "CALL_ENTRY_TIME          0\n",
       "dtype: int64"
      ]
     },
     "execution_count": 21,
     "metadata": {},
     "output_type": "execute_result"
    }
   ],
   "source": [
    "# time_str = df['CALL_ENTRY_TIME'].values\n",
    "# time_dt = pd.to_datetime(time_str, format='%H:%M:%S')\n",
    "# time_regular = time_dt.strftime('%I:%M:%S %p')    \n",
    "# time_regular\n",
    "# df['CALL_ENTRY_TIME'] = df['CALL_ENTRY_TIME'].apply(time_regular)\n",
    "# df.head(5)\n",
    "df.isna().sum()"
   ]
  },
  {
   "cell_type": "markdown",
   "metadata": {},
   "source": [
    "#### Remove Special Characters"
   ]
  },
  {
   "cell_type": "code",
   "execution_count": 22,
   "metadata": {},
   "outputs": [
    {
     "data": {
      "text/plain": [
       "0           AMBULANCE REQ\n",
       "1           OBTAIN REPORT\n",
       "2           OBTAIN REPORT\n",
       "3                 REPORTS\n",
       "4           WELFARE CHECK\n",
       "                ...      \n",
       "2762826        LOUD MUSIC\n",
       "2762827     AMBULANCE REQ\n",
       "2762828              FIRE\n",
       "2762829    ALARM SOUNDING\n",
       "2762830              FIRE\n",
       "Name: CALL_TYPE_DESCRIPTION, Length: 2761358, dtype: object"
      ]
     },
     "execution_count": 22,
     "metadata": {},
     "output_type": "execute_result"
    }
   ],
   "source": [
    "pattern = r'[^\\w\\s]'\n",
    "\n",
    "df['CALL_TYPE_DESCRIPTION'] = df['CALL_TYPE_DESCRIPTION'].apply(lambda x: re.sub(pattern, '', x))\n",
    "\n",
    "df['CALL_TYPE_DESCRIPTION']"
   ]
  },
  {
   "cell_type": "code",
   "execution_count": 25,
   "metadata": {},
   "outputs": [
    {
     "data": {
      "text/plain": [
       "0            945\n",
       "1            950\n",
       "2            950\n",
       "3           925R\n",
       "4          WELCK\n",
       "           ...  \n",
       "2762826     415E\n",
       "2762827      945\n",
       "2762828      929\n",
       "2762829      933\n",
       "2762830      929\n",
       "Name: CALL_TYPE, Length: 2761358, dtype: object"
      ]
     },
     "execution_count": 25,
     "metadata": {},
     "output_type": "execute_result"
    }
   ],
   "source": [
    "df['CALL_TYPE'] = df['CALL_TYPE'].apply(lambda x: re.sub(pattern, '', x))\n",
    "\n",
    "df['CALL_TYPE']"
   ]
  },
  {
   "cell_type": "markdown",
   "metadata": {},
   "source": [
    "#### Strip Whitespace from all columns"
   ]
  },
  {
   "cell_type": "code",
   "execution_count": 26,
   "metadata": {},
   "outputs": [
    {
     "data": {
      "text/html": [
       "<div>\n",
       "<style scoped>\n",
       "    .dataframe tbody tr th:only-of-type {\n",
       "        vertical-align: middle;\n",
       "    }\n",
       "\n",
       "    .dataframe tbody tr th {\n",
       "        vertical-align: top;\n",
       "    }\n",
       "\n",
       "    .dataframe thead th {\n",
       "        text-align: right;\n",
       "    }\n",
       "</style>\n",
       "<table border=\"1\" class=\"dataframe\">\n",
       "  <thead>\n",
       "    <tr style=\"text-align: right;\">\n",
       "      <th></th>\n",
       "      <th>DISTRICT_NAME</th>\n",
       "      <th>REP_DIST</th>\n",
       "      <th>CALL_TYPE</th>\n",
       "      <th>CALL_TYPE_DESCRIPTION</th>\n",
       "      <th>PRIORITY</th>\n",
       "      <th>CROSS_STREET</th>\n",
       "      <th>CALL_ENTRY_DATE</th>\n",
       "      <th>CALL_ENTRY_TIME</th>\n",
       "    </tr>\n",
       "  </thead>\n",
       "  <tbody>\n",
       "    <tr>\n",
       "      <th>0</th>\n",
       "      <td>Valley Oak</td>\n",
       "      <td>346</td>\n",
       "      <td>945</td>\n",
       "      <td>AMBULANCE REQ</td>\n",
       "      <td>1.0</td>\n",
       "      <td>HAMMER &amp; KATHLEEN</td>\n",
       "      <td>2019-02-12</td>\n",
       "      <td>14:48:36</td>\n",
       "    </tr>\n",
       "    <tr>\n",
       "      <th>1</th>\n",
       "      <td>Civic</td>\n",
       "      <td>109</td>\n",
       "      <td>950</td>\n",
       "      <td>OBTAIN REPORT</td>\n",
       "      <td>3.0</td>\n",
       "      <td>EL DORADO &amp; MARKET</td>\n",
       "      <td>2019-02-12</td>\n",
       "      <td>14:50:06</td>\n",
       "    </tr>\n",
       "    <tr>\n",
       "      <th>2</th>\n",
       "      <td>Civic</td>\n",
       "      <td>109</td>\n",
       "      <td>950</td>\n",
       "      <td>OBTAIN REPORT</td>\n",
       "      <td>3.0</td>\n",
       "      <td>EL DORADO &amp; MARKET</td>\n",
       "      <td>2019-02-12</td>\n",
       "      <td>14:50:06</td>\n",
       "    </tr>\n",
       "    <tr>\n",
       "      <th>3</th>\n",
       "      <td>Civic</td>\n",
       "      <td>109</td>\n",
       "      <td>925R</td>\n",
       "      <td>REPORTS</td>\n",
       "      <td>2.0</td>\n",
       "      <td>EL DORADO &amp; MARKET</td>\n",
       "      <td>2019-02-12</td>\n",
       "      <td>14:50:45</td>\n",
       "    </tr>\n",
       "    <tr>\n",
       "      <th>4</th>\n",
       "      <td>Seaport</td>\n",
       "      <td>106</td>\n",
       "      <td>WELCK</td>\n",
       "      <td>WELFARE CHECK</td>\n",
       "      <td>2.0</td>\n",
       "      <td>LAFAYETTE &amp; SAN JOAQUIN</td>\n",
       "      <td>2019-02-12</td>\n",
       "      <td>14:52:25</td>\n",
       "    </tr>\n",
       "    <tr>\n",
       "      <th>5</th>\n",
       "      <td>Seaport</td>\n",
       "      <td>106</td>\n",
       "      <td>WELCK</td>\n",
       "      <td>WELFARE CHECK</td>\n",
       "      <td>2.0</td>\n",
       "      <td>LAFAYETTE &amp; SAN JOAQUIN</td>\n",
       "      <td>2019-02-12</td>\n",
       "      <td>14:52:25</td>\n",
       "    </tr>\n",
       "    <tr>\n",
       "      <th>6</th>\n",
       "      <td>Seaport</td>\n",
       "      <td>230</td>\n",
       "      <td>481</td>\n",
       "      <td>HIT RUN NO INJUR</td>\n",
       "      <td>2.0</td>\n",
       "      <td>IRENE &amp; STOCKTON</td>\n",
       "      <td>2019-02-12</td>\n",
       "      <td>14:55:18</td>\n",
       "    </tr>\n",
       "    <tr>\n",
       "      <th>7</th>\n",
       "      <td>Valley Oak</td>\n",
       "      <td>367</td>\n",
       "      <td>415HW</td>\n",
       "      <td>CELL 911 HANG UP</td>\n",
       "      <td>1.0</td>\n",
       "      <td>FRED RUSSO &amp; JAYDEN</td>\n",
       "      <td>2019-02-12</td>\n",
       "      <td>15:06:55</td>\n",
       "    </tr>\n",
       "    <tr>\n",
       "      <th>8</th>\n",
       "      <td>Valley Oak</td>\n",
       "      <td>346</td>\n",
       "      <td>415L</td>\n",
       "      <td>CLEAR THE LOT</td>\n",
       "      <td>4.0</td>\n",
       "      <td>KNICKERBOCKER &amp; NEW YORK</td>\n",
       "      <td>2019-02-12</td>\n",
       "      <td>15:06:53</td>\n",
       "    </tr>\n",
       "    <tr>\n",
       "      <th>9</th>\n",
       "      <td>Valley Oak</td>\n",
       "      <td>367</td>\n",
       "      <td>415HW</td>\n",
       "      <td>CELL 911 HANG UP</td>\n",
       "      <td>1.0</td>\n",
       "      <td>FRED RUSSO &amp; JAYDEN</td>\n",
       "      <td>2019-02-12</td>\n",
       "      <td>15:07:10</td>\n",
       "    </tr>\n",
       "  </tbody>\n",
       "</table>\n",
       "</div>"
      ],
      "text/plain": [
       "  DISTRICT_NAME  REP_DIST CALL_TYPE CALL_TYPE_DESCRIPTION  PRIORITY  \\\n",
       "0    Valley Oak       346       945         AMBULANCE REQ       1.0   \n",
       "1         Civic       109       950         OBTAIN REPORT       3.0   \n",
       "2         Civic       109       950         OBTAIN REPORT       3.0   \n",
       "3         Civic       109      925R               REPORTS       2.0   \n",
       "4       Seaport       106     WELCK         WELFARE CHECK       2.0   \n",
       "5       Seaport       106     WELCK         WELFARE CHECK       2.0   \n",
       "6       Seaport       230       481      HIT RUN NO INJUR       2.0   \n",
       "7    Valley Oak       367     415HW      CELL 911 HANG UP       1.0   \n",
       "8    Valley Oak       346      415L         CLEAR THE LOT       4.0   \n",
       "9    Valley Oak       367     415HW      CELL 911 HANG UP       1.0   \n",
       "\n",
       "               CROSS_STREET CALL_ENTRY_DATE CALL_ENTRY_TIME  \n",
       "0         HAMMER & KATHLEEN      2019-02-12        14:48:36  \n",
       "1        EL DORADO & MARKET      2019-02-12        14:50:06  \n",
       "2        EL DORADO & MARKET      2019-02-12        14:50:06  \n",
       "3        EL DORADO & MARKET      2019-02-12        14:50:45  \n",
       "4   LAFAYETTE & SAN JOAQUIN      2019-02-12        14:52:25  \n",
       "5   LAFAYETTE & SAN JOAQUIN      2019-02-12        14:52:25  \n",
       "6          IRENE & STOCKTON      2019-02-12        14:55:18  \n",
       "7       FRED RUSSO & JAYDEN      2019-02-12        15:06:55  \n",
       "8  KNICKERBOCKER & NEW YORK      2019-02-12        15:06:53  \n",
       "9       FRED RUSSO & JAYDEN      2019-02-12        15:07:10  "
      ]
     },
     "execution_count": 26,
     "metadata": {},
     "output_type": "execute_result"
    }
   ],
   "source": [
    "cleaned_df = df.applymap(lambda x: x.strip() if isinstance(x, str) else x)\n",
    "\n",
    "cleaned_df.head(10)"
   ]
  },
  {
   "cell_type": "markdown",
   "metadata": {},
   "source": [
    "### <a class=\"anchor\" id=\"data-preparation\">4. Data Preparation</a>\n",
    "###### [Back to top](#top)"
   ]
  },
  {
   "cell_type": "code",
   "execution_count": 29,
   "metadata": {},
   "outputs": [
    {
     "name": "stdout",
     "output_type": "stream",
     "text": [
      "Exported data for year 2019 to ./cleaned_data_2019.csv\n",
      "Exported data for year 2020 to ./cleaned_data_2020.csv\n",
      "Exported data for year 2021 to ./cleaned_data_2021.csv\n",
      "Exported data for year 2022 to ./cleaned_data_2022.csv\n",
      "Exported data for year 2023 to ./cleaned_data_2023.csv\n",
      "Exported data for year 2024 to ./cleaned_data_2024.csv\n"
     ]
    }
   ],
   "source": [
    "for year, group in cleaned_df.groupby(cleaned_df['CALL_ENTRY_DATE'].dt.year):\n",
    "    output_dir = './'\n",
    "    csv_file = os.path.join(output_dir, f'cleaned_data_{year}.csv')\n",
    "    group.to_csv(csv_file, index=False)\n",
    "    \n",
    "    print(f'Exported data for year {year} to {csv_file}')"
   ]
  }
 ],
 "metadata": {
  "kernelspec": {
   "display_name": "Python 3",
   "language": "python",
   "name": "python3"
  },
  "language_info": {
   "codemirror_mode": {
    "name": "ipython",
    "version": 3
   },
   "file_extension": ".py",
   "mimetype": "text/x-python",
   "name": "python",
   "nbconvert_exporter": "python",
   "pygments_lexer": "ipython3",
   "version": "3.11.5"
  }
 },
 "nbformat": 4,
 "nbformat_minor": 2
}
